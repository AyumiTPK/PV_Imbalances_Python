{
 "cells": [
  {
   "cell_type": "code",
   "execution_count": 51,
   "id": "c0b9d01b-b6ff-4307-8a9c-bcd51e8329a0",
   "metadata": {},
   "outputs": [],
   "source": [
    "import json\n",
    "import pandas as pd\n",
    "\n",
    "with open(\"./json/2022.json\", \"r\", encoding=\"utf-8\") as file:\n",
    "    data = json.load(file)"
   ]
  },
  {
   "cell_type": "code",
   "execution_count": 52,
   "id": "8062cc9c-e867-495f-85b8-a2426b7ff63f",
   "metadata": {},
   "outputs": [
    {
     "name": "stdout",
     "output_type": "stream",
     "text": [
      "Name: Intraday Continuous Average Price\n",
      "Currency: EUR\n",
      "Unit: EUR/MWh\n",
      "Data: [-2.92, 0.33, -3.62, -6.07, -10.0, -8.33, 5.67, 7.27, 0.14, 2.42] ...\n"
     ]
    }
   ],
   "source": [
    "intraday_prices = []\n",
    "for item in data:\n",
    "    if \"name\" in item and isinstance(item[\"name\"], list):\n",
    "        for name_entry in item[\"name\"]:\n",
    "            if name_entry.get(\"en\") == \"Intraday Continuous Average Price\":\n",
    "                intraday_prices.append({\n",
    "                    \"name\": name_entry[\"en\"],\n",
    "                    \"currency\": item.get(\"currency\"),\n",
    "                    \"unit\": item.get(\"unit\"),\n",
    "                    \"data\": item.get(\"data\", [])\n",
    "                })\n",
    "\n",
    "for entry in intraday_prices:\n",
    "    print(f\"Name: {entry['name']}\")\n",
    "    print(f\"Currency: {entry['currency']}\")\n",
    "    print(f\"Unit: {entry['unit']}\")\n",
    "    print(f\"Data: {entry['data'][:10]} ...\") "
   ]
  },
  {
   "cell_type": "code",
   "execution_count": 53,
   "id": "b49a4d4d-2121-401c-afc1-d6d3df448d03",
   "metadata": {},
   "outputs": [
    {
     "name": "stdout",
     "output_type": "stream",
     "text": [
      "   price\n",
      "0  -2.92\n",
      "1   0.33\n",
      "2  -3.62\n",
      "3  -6.07\n",
      "4 -10.00\n"
     ]
    }
   ],
   "source": [
    "# Extract only the 'data'\n",
    "prices_data = []\n",
    "for entry in intraday_prices:\n",
    "    prices_data.extend(entry['data'])  \n",
    "\n",
    "df_price = pd.DataFrame(prices_data, columns=[\"price\"])\n",
    "print(df_price.head())"
   ]
  },
  {
   "cell_type": "code",
   "execution_count": 54,
   "id": "71ee16ce-568c-4bac-93fa-c9afdd6295c9",
   "metadata": {},
   "outputs": [],
   "source": [
    "x_axis_values = data[0]['xAxisValues']\n",
    "df_date['date'] = pd.to_datetime(df_date['date'], unit='ms')\n",
    "#df_date['date'] = df_date['date'].dt.tz_localize('UTC')\n",
    "df_date['date'] = df_date['date'].dt.tz_convert('CET')"
   ]
  },
  {
   "cell_type": "code",
   "execution_count": 56,
   "id": "1ef1b0f7-609e-400c-ae68-340f20073b9b",
   "metadata": {},
   "outputs": [],
   "source": [
    "df_date.to_csv('df_date_2022.csv')\n",
    "df_price.to_csv('df_price_2022.csv')"
   ]
  },
  {
   "cell_type": "code",
   "execution_count": null,
   "id": "a48cd0d3-8c8d-4cb8-bb83-9272c937b18f",
   "metadata": {},
   "outputs": [],
   "source": []
  }
 ],
 "metadata": {
  "kernelspec": {
   "display_name": "Python 3 (ipykernel)",
   "language": "python",
   "name": "python3"
  },
  "language_info": {
   "codemirror_mode": {
    "name": "ipython",
    "version": 3
   },
   "file_extension": ".py",
   "mimetype": "text/x-python",
   "name": "python",
   "nbconvert_exporter": "python",
   "pygments_lexer": "ipython3",
   "version": "3.11.6"
  }
 },
 "nbformat": 4,
 "nbformat_minor": 5
}
