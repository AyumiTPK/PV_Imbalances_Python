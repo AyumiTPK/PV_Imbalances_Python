{
 "cells": [
  {
   "cell_type": "code",
   "execution_count": 3,
   "id": "17b18890-8e62-47e4-afe3-b5b48baa8cc1",
   "metadata": {},
   "outputs": [],
   "source": [
    "import requests\n",
    "import csv\n",
    "from datetime import datetime, timedelta"
   ]
  },
  {
   "cell_type": "code",
   "execution_count": 4,
   "id": "f710eb6c-2b5e-4c7f-8b9c-86c542fcb08d",
   "metadata": {},
   "outputs": [
    {
     "name": "stdout",
     "output_type": "stream",
     "text": [
      "Tariff Data:\n",
      "[{'start_timestamp': '2023-09-06T00:00:00+02:00', 'end_timestamp': '2023-09-06T00:15:00+02:00', 'vario_grid': 9.23, 'unit': 'Rp./kWh'}, {'start_timestamp': '2023-09-06T00:15:00+02:00', 'end_timestamp': '2023-09-06T00:30:00+02:00', 'vario_grid': 8.46, 'unit': 'Rp./kWh'}, {'start_timestamp': '2023-09-06T00:30:00+02:00', 'end_timestamp': '2023-09-06T00:45:00+02:00', 'vario_grid': 7.2, 'unit': 'Rp./kWh'}, {'start_timestamp': '2023-09-06T00:45:00+02:00', 'end_timestamp': '2023-09-06T01:00:00+02:00', 'vario_grid': 6.06, 'unit': 'Rp./kWh'}, {'start_timestamp': '2023-09-06T01:00:00+02:00', 'end_timestamp': '2023-09-06T01:15:00+02:00', 'vario_grid': 6.72, 'unit': 'Rp./kWh'}, {'start_timestamp': '2023-09-06T01:15:00+02:00', 'end_timestamp': '2023-09-06T01:30:00+02:00', 'vario_grid': 6.95, 'unit': 'Rp./kWh'}, {'start_timestamp': '2023-09-06T01:30:00+02:00', 'end_timestamp': '2023-09-06T01:45:00+02:00', 'vario_grid': 5.5, 'unit': 'Rp./kWh'}, {'start_timestamp': '2023-09-06T01:45:00+02:00', 'end_timestamp': '2023-09-06T02:00:00+02:00', 'vario_grid': 4.21, 'unit': 'Rp./kWh'}, {'start_timestamp': '2023-09-06T02:00:00+02:00', 'end_timestamp': '2023-09-06T02:15:00+02:00', 'vario_grid': 8.31, 'unit': 'Rp./kWh'}, {'start_timestamp': '2023-09-06T02:15:00+02:00', 'end_timestamp': '2023-09-06T02:30:00+02:00', 'vario_grid': 7.92, 'unit': 'Rp./kWh'}, {'start_timestamp': '2023-09-06T02:30:00+02:00', 'end_timestamp': '2023-09-06T02:45:00+02:00', 'vario_grid': 6.62, 'unit': 'Rp./kWh'}, {'start_timestamp': '2023-09-06T02:45:00+02:00', 'end_timestamp': '2023-09-06T03:00:00+02:00', 'vario_grid': 4.71, 'unit': 'Rp./kWh'}, {'start_timestamp': '2023-09-06T03:00:00+02:00', 'end_timestamp': '2023-09-06T03:15:00+02:00', 'vario_grid': 3.61, 'unit': 'Rp./kWh'}, {'start_timestamp': '2023-09-06T03:15:00+02:00', 'end_timestamp': '2023-09-06T03:30:00+02:00', 'vario_grid': 2.6, 'unit': 'Rp./kWh'}, {'start_timestamp': '2023-09-06T03:30:00+02:00', 'end_timestamp': '2023-09-06T03:45:00+02:00', 'vario_grid': 1.88, 'unit': 'Rp./kWh'}, {'start_timestamp': '2023-09-06T03:45:00+02:00', 'end_timestamp': '2023-09-06T04:00:00+02:00', 'vario_grid': 1.3900000000000001, 'unit': 'Rp./kWh'}, {'start_timestamp': '2023-09-06T04:00:00+02:00', 'end_timestamp': '2023-09-06T04:15:00+02:00', 'vario_grid': 1.35, 'unit': 'Rp./kWh'}, {'start_timestamp': '2023-09-06T04:15:00+02:00', 'end_timestamp': '2023-09-06T04:30:00+02:00', 'vario_grid': 1.15, 'unit': 'Rp./kWh'}, {'start_timestamp': '2023-09-06T04:30:00+02:00', 'end_timestamp': '2023-09-06T04:45:00+02:00', 'vario_grid': 1.06, 'unit': 'Rp./kWh'}, {'start_timestamp': '2023-09-06T04:45:00+02:00', 'end_timestamp': '2023-09-06T05:00:00+02:00', 'vario_grid': 0.9500000000000001, 'unit': 'Rp./kWh'}, {'start_timestamp': '2023-09-06T05:00:00+02:00', 'end_timestamp': '2023-09-06T05:15:00+02:00', 'vario_grid': 1.07, 'unit': 'Rp./kWh'}, {'start_timestamp': '2023-09-06T05:15:00+02:00', 'end_timestamp': '2023-09-06T05:30:00+02:00', 'vario_grid': 1.1400000000000001, 'unit': 'Rp./kWh'}, {'start_timestamp': '2023-09-06T05:30:00+02:00', 'end_timestamp': '2023-09-06T05:45:00+02:00', 'vario_grid': 1.34, 'unit': 'Rp./kWh'}, {'start_timestamp': '2023-09-06T05:45:00+02:00', 'end_timestamp': '2023-09-06T06:00:00+02:00', 'vario_grid': 1.6400000000000001, 'unit': 'Rp./kWh'}, {'start_timestamp': '2023-09-06T06:00:00+02:00', 'end_timestamp': '2023-09-06T06:15:00+02:00', 'vario_grid': 2.91, 'unit': 'Rp./kWh'}, {'start_timestamp': '2023-09-06T06:15:00+02:00', 'end_timestamp': '2023-09-06T06:30:00+02:00', 'vario_grid': 3.79, 'unit': 'Rp./kWh'}, {'start_timestamp': '2023-09-06T06:30:00+02:00', 'end_timestamp': '2023-09-06T06:45:00+02:00', 'vario_grid': 4.7, 'unit': 'Rp./kWh'}, {'start_timestamp': '2023-09-06T06:45:00+02:00', 'end_timestamp': '2023-09-06T07:00:00+02:00', 'vario_grid': 5.8, 'unit': 'Rp./kWh'}, {'start_timestamp': '2023-09-06T07:00:00+02:00', 'end_timestamp': '2023-09-06T07:15:00+02:00', 'vario_grid': 8.41, 'unit': 'Rp./kWh'}, {'start_timestamp': '2023-09-06T07:15:00+02:00', 'end_timestamp': '2023-09-06T07:30:00+02:00', 'vario_grid': 9.51, 'unit': 'Rp./kWh'}, {'start_timestamp': '2023-09-06T07:30:00+02:00', 'end_timestamp': '2023-09-06T07:45:00+02:00', 'vario_grid': 10.75, 'unit': 'Rp./kWh'}, {'start_timestamp': '2023-09-06T07:45:00+02:00', 'end_timestamp': '2023-09-06T08:00:00+02:00', 'vario_grid': 11.8, 'unit': 'Rp./kWh'}, {'start_timestamp': '2023-09-06T08:00:00+02:00', 'end_timestamp': '2023-09-06T08:15:00+02:00', 'vario_grid': 12.95, 'unit': 'Rp./kWh'}, {'start_timestamp': '2023-09-06T08:15:00+02:00', 'end_timestamp': '2023-09-06T08:30:00+02:00', 'vario_grid': 13.42, 'unit': 'Rp./kWh'}, {'start_timestamp': '2023-09-06T08:30:00+02:00', 'end_timestamp': '2023-09-06T08:45:00+02:00', 'vario_grid': 13.61, 'unit': 'Rp./kWh'}, {'start_timestamp': '2023-09-06T08:45:00+02:00', 'end_timestamp': '2023-09-06T09:00:00+02:00', 'vario_grid': 13.38, 'unit': 'Rp./kWh'}, {'start_timestamp': '2023-09-06T09:00:00+02:00', 'end_timestamp': '2023-09-06T09:15:00+02:00', 'vario_grid': 11.93, 'unit': 'Rp./kWh'}, {'start_timestamp': '2023-09-06T09:15:00+02:00', 'end_timestamp': '2023-09-06T09:30:00+02:00', 'vario_grid': 11.36, 'unit': 'Rp./kWh'}, {'start_timestamp': '2023-09-06T09:30:00+02:00', 'end_timestamp': '2023-09-06T09:45:00+02:00', 'vario_grid': 10.55, 'unit': 'Rp./kWh'}, {'start_timestamp': '2023-09-06T09:45:00+02:00', 'end_timestamp': '2023-09-06T10:00:00+02:00', 'vario_grid': 9.65, 'unit': 'Rp./kWh'}, {'start_timestamp': '2023-09-06T10:00:00+02:00', 'end_timestamp': '2023-09-06T10:15:00+02:00', 'vario_grid': 6.74, 'unit': 'Rp./kWh'}, {'start_timestamp': '2023-09-06T10:15:00+02:00', 'end_timestamp': '2023-09-06T10:30:00+02:00', 'vario_grid': 5.69, 'unit': 'Rp./kWh'}, {'start_timestamp': '2023-09-06T10:30:00+02:00', 'end_timestamp': '2023-09-06T10:45:00+02:00', 'vario_grid': 4.95, 'unit': 'Rp./kWh'}, {'start_timestamp': '2023-09-06T10:45:00+02:00', 'end_timestamp': '2023-09-06T11:00:00+02:00', 'vario_grid': 3.93, 'unit': 'Rp./kWh'}, {'start_timestamp': '2023-09-06T11:00:00+02:00', 'end_timestamp': '2023-09-06T11:15:00+02:00', 'vario_grid': 0.58, 'unit': 'Rp./kWh'}, {'start_timestamp': '2023-09-06T11:15:00+02:00', 'end_timestamp': '2023-09-06T11:30:00+02:00', 'vario_grid': -0.23, 'unit': 'Rp./kWh'}, {'start_timestamp': '2023-09-06T11:30:00+02:00', 'end_timestamp': '2023-09-06T11:45:00+02:00', 'vario_grid': -0.88, 'unit': 'Rp./kWh'}, {'start_timestamp': '2023-09-06T11:45:00+02:00', 'end_timestamp': '2023-09-06T12:00:00+02:00', 'vario_grid': -1.54, 'unit': 'Rp./kWh'}, {'start_timestamp': '2023-09-06T12:00:00+02:00', 'end_timestamp': '2023-09-06T12:15:00+02:00', 'vario_grid': -2.99, 'unit': 'Rp./kWh'}, {'start_timestamp': '2023-09-06T12:15:00+02:00', 'end_timestamp': '2023-09-06T12:30:00+02:00', 'vario_grid': -3.31, 'unit': 'Rp./kWh'}, {'start_timestamp': '2023-09-06T12:30:00+02:00', 'end_timestamp': '2023-09-06T12:45:00+02:00', 'vario_grid': -3.37, 'unit': 'Rp./kWh'}, {'start_timestamp': '2023-09-06T12:45:00+02:00', 'end_timestamp': '2023-09-06T13:00:00+02:00', 'vario_grid': -4.2, 'unit': 'Rp./kWh'}, {'start_timestamp': '2023-09-06T13:00:00+02:00', 'end_timestamp': '2023-09-06T13:15:00+02:00', 'vario_grid': -7.36, 'unit': 'Rp./kWh'}, {'start_timestamp': '2023-09-06T13:15:00+02:00', 'end_timestamp': '2023-09-06T13:30:00+02:00', 'vario_grid': -8.35, 'unit': 'Rp./kWh'}, {'start_timestamp': '2023-09-06T13:30:00+02:00', 'end_timestamp': '2023-09-06T13:45:00+02:00', 'vario_grid': -9.32, 'unit': 'Rp./kWh'}, {'start_timestamp': '2023-09-06T13:45:00+02:00', 'end_timestamp': '2023-09-06T14:00:00+02:00', 'vario_grid': -10, 'unit': 'Rp./kWh'}, {'start_timestamp': '2023-09-06T14:00:00+02:00', 'end_timestamp': '2023-09-06T14:15:00+02:00', 'vario_grid': -9.85, 'unit': 'Rp./kWh'}, {'start_timestamp': '2023-09-06T14:15:00+02:00', 'end_timestamp': '2023-09-06T14:30:00+02:00', 'vario_grid': -9.49, 'unit': 'Rp./kWh'}, {'start_timestamp': '2023-09-06T14:30:00+02:00', 'end_timestamp': '2023-09-06T14:45:00+02:00', 'vario_grid': -9.17, 'unit': 'Rp./kWh'}, {'start_timestamp': '2023-09-06T14:45:00+02:00', 'end_timestamp': '2023-09-06T15:00:00+02:00', 'vario_grid': -9.1, 'unit': 'Rp./kWh'}, {'start_timestamp': '2023-09-06T15:00:00+02:00', 'end_timestamp': '2023-09-06T15:15:00+02:00', 'vario_grid': -8.39, 'unit': 'Rp./kWh'}, {'start_timestamp': '2023-09-06T15:15:00+02:00', 'end_timestamp': '2023-09-06T15:30:00+02:00', 'vario_grid': -8.56, 'unit': 'Rp./kWh'}, {'start_timestamp': '2023-09-06T15:30:00+02:00', 'end_timestamp': '2023-09-06T15:45:00+02:00', 'vario_grid': -8.51, 'unit': 'Rp./kWh'}, {'start_timestamp': '2023-09-06T15:45:00+02:00', 'end_timestamp': '2023-09-06T16:00:00+02:00', 'vario_grid': -8.29, 'unit': 'Rp./kWh'}, {'start_timestamp': '2023-09-06T16:00:00+02:00', 'end_timestamp': '2023-09-06T16:15:00+02:00', 'vario_grid': -6.39, 'unit': 'Rp./kWh'}, {'start_timestamp': '2023-09-06T16:15:00+02:00', 'end_timestamp': '2023-09-06T16:30:00+02:00', 'vario_grid': -6.44, 'unit': 'Rp./kWh'}, {'start_timestamp': '2023-09-06T16:30:00+02:00', 'end_timestamp': '2023-09-06T16:45:00+02:00', 'vario_grid': -6.37, 'unit': 'Rp./kWh'}, {'start_timestamp': '2023-09-06T16:45:00+02:00', 'end_timestamp': '2023-09-06T17:00:00+02:00', 'vario_grid': -6.28, 'unit': 'Rp./kWh'}, {'start_timestamp': '2023-09-06T17:00:00+02:00', 'end_timestamp': '2023-09-06T17:15:00+02:00', 'vario_grid': -4.29, 'unit': 'Rp./kWh'}, {'start_timestamp': '2023-09-06T17:15:00+02:00', 'end_timestamp': '2023-09-06T17:30:00+02:00', 'vario_grid': -3.85, 'unit': 'Rp./kWh'}, {'start_timestamp': '2023-09-06T17:30:00+02:00', 'end_timestamp': '2023-09-06T17:45:00+02:00', 'vario_grid': -3.08, 'unit': 'Rp./kWh'}, {'start_timestamp': '2023-09-06T17:45:00+02:00', 'end_timestamp': '2023-09-06T18:00:00+02:00', 'vario_grid': -1.94, 'unit': 'Rp./kWh'}, {'start_timestamp': '2023-09-06T18:00:00+02:00', 'end_timestamp': '2023-09-06T18:15:00+02:00', 'vario_grid': 0.55, 'unit': 'Rp./kWh'}, {'start_timestamp': '2023-09-06T18:15:00+02:00', 'end_timestamp': '2023-09-06T18:30:00+02:00', 'vario_grid': 1.94, 'unit': 'Rp./kWh'}, {'start_timestamp': '2023-09-06T18:30:00+02:00', 'end_timestamp': '2023-09-06T18:45:00+02:00', 'vario_grid': 3.5700000000000003, 'unit': 'Rp./kWh'}, {'start_timestamp': '2023-09-06T18:45:00+02:00', 'end_timestamp': '2023-09-06T19:00:00+02:00', 'vario_grid': 5.38, 'unit': 'Rp./kWh'}, {'start_timestamp': '2023-09-06T19:00:00+02:00', 'end_timestamp': '2023-09-06T19:15:00+02:00', 'vario_grid': 8.03, 'unit': 'Rp./kWh'}, {'start_timestamp': '2023-09-06T19:15:00+02:00', 'end_timestamp': '2023-09-06T19:30:00+02:00', 'vario_grid': 9.76, 'unit': 'Rp./kWh'}, {'start_timestamp': '2023-09-06T19:30:00+02:00', 'end_timestamp': '2023-09-06T19:45:00+02:00', 'vario_grid': 11.45, 'unit': 'Rp./kWh'}, {'start_timestamp': '2023-09-06T19:45:00+02:00', 'end_timestamp': '2023-09-06T20:00:00+02:00', 'vario_grid': 12.81, 'unit': 'Rp./kWh'}, {'start_timestamp': '2023-09-06T20:00:00+02:00', 'end_timestamp': '2023-09-06T20:15:00+02:00', 'vario_grid': 13.17, 'unit': 'Rp./kWh'}, {'start_timestamp': '2023-09-06T20:15:00+02:00', 'end_timestamp': '2023-09-06T20:30:00+02:00', 'vario_grid': 13.23, 'unit': 'Rp./kWh'}, {'start_timestamp': '2023-09-06T20:30:00+02:00', 'end_timestamp': '2023-09-06T20:45:00+02:00', 'vario_grid': 13.43, 'unit': 'Rp./kWh'}, {'start_timestamp': '2023-09-06T20:45:00+02:00', 'end_timestamp': '2023-09-06T21:00:00+02:00', 'vario_grid': 13.6, 'unit': 'Rp./kWh'}, {'start_timestamp': '2023-09-06T21:00:00+02:00', 'end_timestamp': '2023-09-06T21:15:00+02:00', 'vario_grid': 13.15, 'unit': 'Rp./kWh'}, {'start_timestamp': '2023-09-06T21:15:00+02:00', 'end_timestamp': '2023-09-06T21:30:00+02:00', 'vario_grid': 13.01, 'unit': 'Rp./kWh'}, {'start_timestamp': '2023-09-06T21:30:00+02:00', 'end_timestamp': '2023-09-06T21:45:00+02:00', 'vario_grid': 14.26, 'unit': 'Rp./kWh'}, {'start_timestamp': '2023-09-06T21:45:00+02:00', 'end_timestamp': '2023-09-06T22:00:00+02:00', 'vario_grid': 13.96, 'unit': 'Rp./kWh'}, {'start_timestamp': '2023-09-06T22:00:00+02:00', 'end_timestamp': '2023-09-06T22:15:00+02:00', 'vario_grid': 12.98, 'unit': 'Rp./kWh'}, {'start_timestamp': '2023-09-06T22:15:00+02:00', 'end_timestamp': '2023-09-06T22:30:00+02:00', 'vario_grid': 12.31, 'unit': 'Rp./kWh'}, {'start_timestamp': '2023-09-06T22:30:00+02:00', 'end_timestamp': '2023-09-06T22:45:00+02:00', 'vario_grid': 11.32, 'unit': 'Rp./kWh'}, {'start_timestamp': '2023-09-06T22:45:00+02:00', 'end_timestamp': '2023-09-06T23:00:00+02:00', 'vario_grid': 10.27, 'unit': 'Rp./kWh'}, {'start_timestamp': '2023-09-06T23:00:00+02:00', 'end_timestamp': '2023-09-06T23:15:00+02:00', 'vario_grid': 9.77, 'unit': 'Rp./kWh'}, {'start_timestamp': '2023-09-06T23:15:00+02:00', 'end_timestamp': '2023-09-06T23:30:00+02:00', 'vario_grid': 8.94, 'unit': 'Rp./kWh'}, {'start_timestamp': '2023-09-06T23:30:00+02:00', 'end_timestamp': '2023-09-06T23:45:00+02:00', 'vario_grid': 9.49, 'unit': 'Rp./kWh'}]\n"
     ]
    }
   ],
   "source": [
    "BASE_URL = \"https://api.tariffs.groupe-e.ch\"\n",
    "\n",
    "RESOURCE = \"/v1/tariffs/vario_grid\"\n",
    "\n",
    "start_date = \"2023-09-06T00:00:00+02:00\"  \n",
    "end_date = \"2023-09-06T23:59:59+02:00\"\n",
    "\n",
    "url = f\"{BASE_URL}{RESOURCE}\"\n",
    "params = {\n",
    "    \"start_timestamp\": start_date,\n",
    "    \"end_timestamp\": end_date\n",
    "}\n",
    "try:\n",
    "    response = requests.get(url, params=params)\n",
    "    response.raise_for_status() \n",
    "\n",
    "    data = response.json()\n",
    "    print(\"Tariff Data:\")\n",
    "    print(data)\n",
    "\n",
    "except requests.exceptions.RequestException as e:\n",
    "    print(f\"An error occurred: {e}\")"
   ]
  },
  {
   "cell_type": "code",
   "execution_count": 5,
   "id": "e352dc90-efef-4b1f-9038-233904b3af5d",
   "metadata": {},
   "outputs": [
    {
     "name": "stdout",
     "output_type": "stream",
     "text": [
      "\u001b[1m============================= test session starts ==============================\u001b[0m\n",
      "platform linux -- Python 3.11.6, pytest-8.3.5, pluggy-1.5.0\n",
      "rootdir: /home/jovyan\n",
      "plugins: anyio-4.0.0\n",
      "collected 1 item                                                               \u001b[0m\n",
      "\n",
      "test_api.py \u001b[32m.\u001b[0m\u001b[32m                                                            [100%]\u001b[0m\n",
      "\n",
      "\u001b[32m============================== \u001b[32m\u001b[1m1 passed\u001b[0m\u001b[32m in 7.92s\u001b[0m\u001b[32m ===============================\u001b[0m\n"
     ]
    }
   ],
   "source": [
    "!pytest test_api.py"
   ]
  },
  {
   "cell_type": "code",
   "execution_count": 6,
   "id": "28150b25-3e1c-4094-85a9-2971b730da99",
   "metadata": {},
   "outputs": [
    {
     "name": "stdout",
     "output_type": "stream",
     "text": [
      "Tariff data for 2023 has been saved to 'tariff_data_2023.csv'\n"
     ]
    }
   ],
   "source": [
    "BASE_URL = \"https://api.tariffs.groupe-e.ch\"\n",
    "\n",
    "RESOURCE = \"/v1/tariffs\"\n",
    "\n",
    "start_date = \"2023-01-01T00:00:00+02:00\"\n",
    "end_date = \"2023-12-31T23:59:59+02:00\"\n",
    "\n",
    "url = f\"{BASE_URL}{RESOURCE}\"\n",
    "params = {\n",
    "    \"start_timestamp\": start_date,\n",
    "    \"end_timestamp\": end_date\n",
    "}\n",
    "\n",
    "try:\n",
    "    response = requests.get(url, params=params)\n",
    "    response.raise_for_status()  \n",
    "\n",
    "    data = response.json()\n",
    "\n",
    "    if data:\n",
    "        with open(\"tariff_data_2023.csv\", \"w\", newline=\"\") as csvfile:\n",
    "    \n",
    "            fieldnames = data[0].keys()  \n",
    "            writer = csv.DictWriter(csvfile, fieldnames=fieldnames)\n",
    "\n",
    "            writer.writeheader()  \n",
    "            for tariff in data:\n",
    "                writer.writerow(tariff)  \n",
    "                \n",
    "        print(\"Tariff data for 2023 has been saved to 'tariff_data_2023.csv'\")\n",
    "\n",
    "    else:\n",
    "        print(\"No tariff data found in the response.\")\n",
    "\n",
    "except requests.exceptions.RequestException as e:\n",
    "    print(f\"An error occurred: {e}\")"
   ]
  },
  {
   "cell_type": "code",
   "execution_count": 7,
   "id": "608c74b9-b76d-494b-bd15-0efa694d4b61",
   "metadata": {},
   "outputs": [
    {
     "ename": "IndentationError",
     "evalue": "unexpected indent (590406009.py, line 20)",
     "output_type": "error",
     "traceback": [
      "\u001b[0;36m  Cell \u001b[0;32mIn[7], line 20\u001b[0;36m\u001b[0m\n\u001b[0;31m    with open(\"tariff_data_2024.csv\", \"w\", newline=\"\") as csvfile:\u001b[0m\n\u001b[0m    ^\u001b[0m\n\u001b[0;31mIndentationError\u001b[0m\u001b[0;31m:\u001b[0m unexpected indent\n"
     ]
    }
   ],
   "source": [
    "BASE_URL = \"https://api.tariffs.groupe-e.ch\"\n",
    "\n",
    "RESOURCE = \"/v1/tariffs\"\n",
    "\n",
    "start_date = \"2024-01-01T00:00:00+02:00\"\n",
    "end_date = \"2024-12-31T23:59:59+02:00\"\n",
    "\n",
    "url = f\"{BASE_URL}{RESOURCE}\"\n",
    "params = {\n",
    "    \"start_timestamp\": start_date,\n",
    "    \"end_timestamp\": end_date\n",
    "}\n",
    "\n",
    "try:\n",
    "    response = requests.get(url, params=params)\n",
    "    response.raise_for_status()  \n",
    "\n",
    "    data = response.json()\n",
    "\n",
    "        with open(\"tariff_data_2024.csv\", \"w\", newline=\"\") as csvfile:\n",
    "        \n",
    "            fieldnames = data[0].keys()  \n",
    "            writer = csv.DictWriter(csvfile, fieldnames=fieldnames)\n",
    "\n",
    "            writer.writeheader()  \n",
    "            for tariff in data:\n",
    "                writer.writerow(tariff)  \n",
    "\n",
    "        print(\"Tariff data for 2024 has been saved to 'tariff_data_2024.csv'\")\n",
    "\n",
    "    else:\n",
    "        print(\"No tariff data found in the response.\")\n",
    "\n",
    "except requests.exceptions.RequestException as e:\n",
    "    print(f\"An error occurred: {e}\")"
   ]
  },
  {
   "cell_type": "code",
   "execution_count": null,
   "id": "8f7ceae2-9738-44f9-a2f9-361cdfd5990b",
   "metadata": {},
   "outputs": [],
   "source": [
    "BASE_URL = \"https://api.tariffs.groupe-e.ch\"\n",
    "\n",
    "RESOURCE = \"/v1/tariffs\"\n",
    "\n",
    "start_date = \"2015-01-01T00:00:00+02:00\"  \n",
    "end_date = \"2024-12-31T23:59:59+02:00\"    \n",
    "\n",
    "url = f\"{BASE_URL}{RESOURCE}\"\n",
    "params = {\n",
    "    \"start_timestamp\": start_date,\n",
    "    \"end_timestamp\": end_date\n",
    "}\n",
    "\n",
    "try:\n",
    "    response = requests.get(url, params=params)\n",
    "    response.raise_for_status()  \n",
    "    \n",
    "    print(f\"Response Status: {response.status_code}\")\n",
    "    print(f\"Request URL: {response.url}\")\n",
    "\n",
    "    data = response.json()\n",
    "\n",
    "    if data:\n",
    "        \n",
    "        first_data_timestamp = data[0]['start_timestamp']\n",
    "        print(f\"First date of data: {first_data_timestamp}\")\n",
    "\n",
    "        last_data_timestamp = data[-1]['end_timestamp']\n",
    "        print(f\"Last date of data: {last_data_timestamp}\")\n",
    "\n",
    "        with open(\"tariff_data_2015_to_2024.csv\", \"w\", newline=\"\") as csvfile:\n",
    "            fieldnames = data[0].keys()  \n",
    "            writer = csv.DictWriter(csvfile, fieldnames=fieldnames)\n",
    "\n",
    "            writer.writeheader()  \n",
    "            for tariff in data:\n",
    "                writer.writerow(tariff) \n",
    "\n",
    "        print(\"Tariff data from 2015 to 2024 has been saved to 'tariff_data_2015_to_2024.csv'\")\n",
    "\n",
    "    else:\n",
    "        print(\"No tariff data found in the response.\")\n",
    "\n",
    "except requests.exceptions.RequestException as e:\n",
    "    print(f\"An error occurred: {e}\")\n",
    "    if response is not None:\n",
    "        print(f\"Error details: {response.text}\")"
   ]
  },
  {
   "cell_type": "code",
   "execution_count": null,
   "id": "f88ccaa2-9069-42ca-9389-55626e72d0db",
   "metadata": {},
   "outputs": [],
   "source": [
    "import pandas as pd"
   ]
  },
  {
   "cell_type": "code",
   "execution_count": null,
   "id": "794bc14b-aa9d-4ce8-9d00-c7c62aefe403",
   "metadata": {},
   "outputs": [],
   "source": [
    "country = \"CH\"  \n",
    "years = range(2025, 2036)\n",
    "\n",
    "holiday_data = []\n",
    "\n",
    "for year in years:\n",
    "    url = f\"https://date.nager.at/api/v3/publicholidays/{year}/{country}\"\n",
    "    response = requests.get(url)\n",
    "    \n",
    "    if response.status_code == 200:\n",
    "        holidays = response.json()\n",
    "        for holiday in holidays:\n",
    "            holiday_data.append([\n",
    "                holiday['date'],\n",
    "                holiday['localName'],\n",
    "                holiday['name'],\n",
    "                holiday['types'],\n",
    "                holiday['global'],\n",
    "                holiday['fixed']\n",
    "            ])\n",
    "    else:\n",
    "        print(f\"Error fetching {year}: {response.status_code}\")\n",
    "\n",
    "df = pd.DataFrame(holiday_data, columns=[\"Date\", \"Local Name\", \"English Name\", \"Types\", \"Global\", \"Fixed\"])\n",
    "\n",
    "csv_filename = \"holidays_2025.csv\"\n",
    "df.to_csv(csv_filename, index=False, encoding=\"utf-8\")\n",
    "\n",
    "print(f\"Data saved to {csv_filename}\")"
   ]
  },
  {
   "cell_type": "code",
   "execution_count": null,
   "id": "d81a722d-1f0d-4349-858d-09dfe40e80cd",
   "metadata": {},
   "outputs": [],
   "source": []
  }
 ],
 "metadata": {
  "kernelspec": {
   "display_name": "Python 3 (ipykernel)",
   "language": "python",
   "name": "python3"
  },
  "language_info": {
   "codemirror_mode": {
    "name": "ipython",
    "version": 3
   },
   "file_extension": ".py",
   "mimetype": "text/x-python",
   "name": "python",
   "nbconvert_exporter": "python",
   "pygments_lexer": "ipython3",
   "version": "3.11.6"
  }
 },
 "nbformat": 4,
 "nbformat_minor": 5
}
